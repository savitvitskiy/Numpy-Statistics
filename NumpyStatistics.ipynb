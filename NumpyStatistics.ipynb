{
 "cells": [
  {
   "cell_type": "markdown",
   "id": "21621b7a",
   "metadata": {},
   "source": [
    "# 5 Attributes of Statistics in Numpy\n",
    "### Order Statistics, Averages and Variances, Correlating, and Histograms\n",
    "\n",
    "Numpy is a library for Python, which performs the same functions and more! The benefit of using Numpy is efficiency. Below you will find a glimpse of capabilities of the Numpy Library.\n",
    "\n",
    "1. Peak to Peak (ptp)\n",
    "2. Median\n",
    "3. Mean\n",
    "4. Standard Deviation (std)\n",
    "5. Histogram"
   ]
  },
  {
   "cell_type": "code",
   "execution_count": 5,
   "id": "6177dfb8",
   "metadata": {},
   "outputs": [],
   "source": [
    "import numpy as np"
   ]
  },
  {
   "cell_type": "markdown",
   "id": "9d7fe14e",
   "metadata": {},
   "source": [
    "## Function 1 - np.ptp\n",
    "\n",
    "Calculates the range of values from the max (peak) to min (peak) of the data set."
   ]
  },
  {
   "cell_type": "code",
   "execution_count": 6,
   "id": "1ea3ebce",
   "metadata": {},
   "outputs": [
    {
     "data": {
      "text/plain": [
       "54"
      ]
     },
     "execution_count": 6,
     "metadata": {},
     "output_type": "execute_result"
    }
   ],
   "source": [
    "# Example 1 - working\n",
    "test_scores = np.array([67, 92, 88, 91, 99, 45, 77, 82])\n",
    "\n",
    "np.ptp(test_scores)"
   ]
  },
  {
   "cell_type": "markdown",
   "id": "1185eff6",
   "metadata": {},
   "source": [
    "The peak to peak function takes the max (100) and the min (45) and subtracts the min from the max (55) to get the range."
   ]
  },
  {
   "cell_type": "code",
   "execution_count": 7,
   "id": "2eba20fb",
   "metadata": {},
   "outputs": [
    {
     "data": {
      "text/plain": [
       "array([54, 33])"
      ]
     },
     "execution_count": 7,
     "metadata": {},
     "output_type": "execute_result"
    }
   ],
   "source": [
    "# Example 2 - working\n",
    "test_scores_of_two_classes = np.array([[67, 92, 88, 91, 99, 45, 77, 82], \n",
    "                                       [70, 92, 89, 90, 100, 67, 73, 80]])\n",
    "\n",
    "np.ptp(test_scores_of_two_classes, axis=1)"
   ]
  },
  {
   "cell_type": "markdown",
   "id": "bf99109f",
   "metadata": {},
   "source": [
    "The peak to peak function can take an array or matrix as a argument. Additionally, the function can take the range from the entire matrix, rows of the matrix, or columns of the matrix."
   ]
  },
  {
   "cell_type": "code",
   "execution_count": 8,
   "id": "04b30691",
   "metadata": {},
   "outputs": [
    {
     "ename": "TypeError",
     "evalue": "Field elements must be 2- or 3-tuples, got '70'",
     "output_type": "error",
     "traceback": [
      "\u001b[0;31m---------------------------------------------------------------------------\u001b[0m",
      "\u001b[0;31mTypeError\u001b[0m                                 Traceback (most recent call last)",
      "Cell \u001b[0;32mIn[8], line 2\u001b[0m\n\u001b[1;32m      1\u001b[0m \u001b[38;5;66;03m# Example 3 - breaking (to illustrate when it breaks)\u001b[39;00m\n\u001b[0;32m----> 2\u001b[0m test_scores_of_two_classes \u001b[38;5;241m=\u001b[39m \u001b[43mnp\u001b[49m\u001b[38;5;241;43m.\u001b[39;49m\u001b[43marray\u001b[49m\u001b[43m(\u001b[49m\u001b[43m[\u001b[49m\u001b[38;5;241;43m67\u001b[39;49m\u001b[43m,\u001b[49m\u001b[43m \u001b[49m\u001b[38;5;241;43m92\u001b[39;49m\u001b[43m,\u001b[49m\u001b[43m \u001b[49m\u001b[38;5;241;43m88\u001b[39;49m\u001b[43m,\u001b[49m\u001b[43m \u001b[49m\u001b[38;5;241;43m91\u001b[39;49m\u001b[43m,\u001b[49m\u001b[43m \u001b[49m\u001b[38;5;241;43m99\u001b[39;49m\u001b[43m,\u001b[49m\u001b[43m \u001b[49m\u001b[38;5;241;43m45\u001b[39;49m\u001b[43m,\u001b[49m\u001b[43m \u001b[49m\u001b[38;5;241;43m77\u001b[39;49m\u001b[43m,\u001b[49m\u001b[43m \u001b[49m\u001b[38;5;241;43m82\u001b[39;49m\u001b[43m]\u001b[49m\u001b[43m,\u001b[49m\u001b[43m \u001b[49m\u001b[43m[\u001b[49m\u001b[38;5;241;43m70\u001b[39;49m\u001b[43m,\u001b[49m\u001b[43m \u001b[49m\u001b[38;5;241;43m92\u001b[39;49m\u001b[43m,\u001b[49m\u001b[43m \u001b[49m\u001b[38;5;241;43m89\u001b[39;49m\u001b[43m,\u001b[49m\u001b[43m \u001b[49m\u001b[38;5;241;43m90\u001b[39;49m\u001b[43m,\u001b[49m\u001b[43m \u001b[49m\u001b[38;5;241;43m100\u001b[39;49m\u001b[43m,\u001b[49m\u001b[43m \u001b[49m\u001b[38;5;241;43m67\u001b[39;49m\u001b[43m,\u001b[49m\u001b[43m \u001b[49m\u001b[38;5;241;43m73\u001b[39;49m\u001b[43m,\u001b[49m\u001b[43m \u001b[49m\u001b[38;5;241;43m80\u001b[39;49m\u001b[43m]\u001b[49m\u001b[43m)\u001b[49m\n",
      "\u001b[0;31mTypeError\u001b[0m: Field elements must be 2- or 3-tuples, got '70'"
     ]
    }
   ],
   "source": [
    "# Example 3 - breaking (to illustrate when it breaks)\n",
    "test_scores_of_two_classes = np.array([67, 92, 88, 91, 99, 45, 77, 82], [70, 92, 89, 90, 100, 67, 73, 80])"
   ]
  },
  {
   "cell_type": "markdown",
   "id": "fd048459",
   "metadata": {},
   "source": [
    "Make sure to enclose the \"arrays\" in square brackets to signify a matrix instead of a list of arrays."
   ]
  },
  {
   "cell_type": "markdown",
   "id": "632b9a2a",
   "metadata": {},
   "source": [
    "##### The peak to peak function is a handy function to get the range of values for any data set."
   ]
  },
  {
   "cell_type": "markdown",
   "id": "bb8d7817",
   "metadata": {},
   "source": [
    "## Function 2 - np.median\n",
    "\n",
    "Calculates the value that is in the center of the data, when sorted from least to greatest."
   ]
  },
  {
   "cell_type": "code",
   "execution_count": 9,
   "id": "7c5031f7",
   "metadata": {},
   "outputs": [
    {
     "data": {
      "text/plain": [
       "85.0"
      ]
     },
     "execution_count": 9,
     "metadata": {},
     "output_type": "execute_result"
    }
   ],
   "source": [
    "# Example 1 - working\n",
    "test_scores = np.array([67, 92, 88, 91, 99, 45, 77, 82])\n",
    "\n",
    "np.median(test_scores)"
   ]
  },
  {
   "cell_type": "markdown",
   "id": "e23635e3",
   "metadata": {},
   "source": [
    "The function sorts the values from least to greatest and takes the center value (if there is an odd number of values) or takes an average of the two center values (if there is an even number of values)."
   ]
  },
  {
   "cell_type": "code",
   "execution_count": 10,
   "id": "6657a37b",
   "metadata": {},
   "outputs": [
    {
     "data": {
      "text/plain": [
       "array([69. , 87.5, 66.5])"
      ]
     },
     "execution_count": 10,
     "metadata": {},
     "output_type": "execute_result"
    }
   ],
   "source": [
    "# Example 2 - working\n",
    "test_scores = np.array([[44, 89, 78, 60], \n",
    "                       [56, 90, 88, 87],\n",
    "                        [55, 78, 87, 34]])\n",
    "\n",
    "# np.median(test_scores)\n",
    "# np.median(test_scores, axis=0)\n",
    "np.median(test_scores, axis=1)"
   ]
  },
  {
   "cell_type": "markdown",
   "id": "7398e087",
   "metadata": {},
   "source": [
    "The function can calculate the median given a matrix or a row/column of a matrix."
   ]
  },
  {
   "cell_type": "code",
   "execution_count": 11,
   "id": "de744820",
   "metadata": {},
   "outputs": [
    {
     "ename": "AxisError",
     "evalue": "axis 1 is out of bounds for array of dimension 1",
     "output_type": "error",
     "traceback": [
      "\u001b[0;31m---------------------------------------------------------------------------\u001b[0m",
      "\u001b[0;31mAxisError\u001b[0m                                 Traceback (most recent call last)",
      "Cell \u001b[0;32mIn[11], line 6\u001b[0m\n\u001b[1;32m      1\u001b[0m \u001b[38;5;66;03m# Example 3 - breaking (to illustrate when it breaks)\u001b[39;00m\n\u001b[1;32m      2\u001b[0m test_scores \u001b[38;5;241m=\u001b[39m np\u001b[38;5;241m.\u001b[39marray([[\u001b[38;5;241m44\u001b[39m, \u001b[38;5;241m89\u001b[39m, \u001b[38;5;241m78\u001b[39m, \u001b[38;5;241m60\u001b[39m], \n\u001b[1;32m      3\u001b[0m                        [\u001b[38;5;241m56\u001b[39m, \u001b[38;5;241m90\u001b[39m],\n\u001b[1;32m      4\u001b[0m                         [\u001b[38;5;241m55\u001b[39m, \u001b[38;5;241m78\u001b[39m, \u001b[38;5;241m87\u001b[39m]], dtype\u001b[38;5;241m=\u001b[39m\u001b[38;5;28mobject\u001b[39m)\n\u001b[0;32m----> 6\u001b[0m \u001b[43mnp\u001b[49m\u001b[38;5;241;43m.\u001b[39;49m\u001b[43mmedian\u001b[49m\u001b[43m(\u001b[49m\u001b[43mtest_scores\u001b[49m\u001b[43m,\u001b[49m\u001b[43m \u001b[49m\u001b[43maxis\u001b[49m\u001b[38;5;241;43m=\u001b[39;49m\u001b[38;5;241;43m1\u001b[39;49m\u001b[43m)\u001b[49m\n",
      "File \u001b[0;32m<__array_function__ internals>:200\u001b[0m, in \u001b[0;36mmedian\u001b[0;34m(*args, **kwargs)\u001b[0m\n",
      "File \u001b[0;32m~/.pyenv/versions/3.11.3/lib/python3.11/site-packages/numpy/lib/function_base.py:3856\u001b[0m, in \u001b[0;36mmedian\u001b[0;34m(a, axis, out, overwrite_input, keepdims)\u001b[0m\n\u001b[1;32m   3774\u001b[0m \u001b[38;5;129m@array_function_dispatch\u001b[39m(_median_dispatcher)\n\u001b[1;32m   3775\u001b[0m \u001b[38;5;28;01mdef\u001b[39;00m \u001b[38;5;21mmedian\u001b[39m(a, axis\u001b[38;5;241m=\u001b[39m\u001b[38;5;28;01mNone\u001b[39;00m, out\u001b[38;5;241m=\u001b[39m\u001b[38;5;28;01mNone\u001b[39;00m, overwrite_input\u001b[38;5;241m=\u001b[39m\u001b[38;5;28;01mFalse\u001b[39;00m, keepdims\u001b[38;5;241m=\u001b[39m\u001b[38;5;28;01mFalse\u001b[39;00m):\n\u001b[1;32m   3776\u001b[0m \u001b[38;5;250m    \u001b[39m\u001b[38;5;124;03m\"\"\"\u001b[39;00m\n\u001b[1;32m   3777\u001b[0m \u001b[38;5;124;03m    Compute the median along the specified axis.\u001b[39;00m\n\u001b[1;32m   3778\u001b[0m \n\u001b[0;32m   (...)\u001b[0m\n\u001b[1;32m   3854\u001b[0m \n\u001b[1;32m   3855\u001b[0m \u001b[38;5;124;03m    \"\"\"\u001b[39;00m\n\u001b[0;32m-> 3856\u001b[0m     \u001b[38;5;28;01mreturn\u001b[39;00m \u001b[43m_ureduce\u001b[49m\u001b[43m(\u001b[49m\u001b[43ma\u001b[49m\u001b[43m,\u001b[49m\u001b[43m \u001b[49m\u001b[43mfunc\u001b[49m\u001b[38;5;241;43m=\u001b[39;49m\u001b[43m_median\u001b[49m\u001b[43m,\u001b[49m\u001b[43m \u001b[49m\u001b[43mkeepdims\u001b[49m\u001b[38;5;241;43m=\u001b[39;49m\u001b[43mkeepdims\u001b[49m\u001b[43m,\u001b[49m\u001b[43m \u001b[49m\u001b[43maxis\u001b[49m\u001b[38;5;241;43m=\u001b[39;49m\u001b[43maxis\u001b[49m\u001b[43m,\u001b[49m\u001b[43m \u001b[49m\u001b[43mout\u001b[49m\u001b[38;5;241;43m=\u001b[39;49m\u001b[43mout\u001b[49m\u001b[43m,\u001b[49m\n\u001b[1;32m   3857\u001b[0m \u001b[43m                    \u001b[49m\u001b[43moverwrite_input\u001b[49m\u001b[38;5;241;43m=\u001b[39;49m\u001b[43moverwrite_input\u001b[49m\u001b[43m)\u001b[49m\n",
      "File \u001b[0;32m~/.pyenv/versions/3.11.3/lib/python3.11/site-packages/numpy/lib/function_base.py:3727\u001b[0m, in \u001b[0;36m_ureduce\u001b[0;34m(a, func, keepdims, **kwargs)\u001b[0m\n\u001b[1;32m   3725\u001b[0m nd \u001b[38;5;241m=\u001b[39m a\u001b[38;5;241m.\u001b[39mndim\n\u001b[1;32m   3726\u001b[0m \u001b[38;5;28;01mif\u001b[39;00m axis \u001b[38;5;129;01mis\u001b[39;00m \u001b[38;5;129;01mnot\u001b[39;00m \u001b[38;5;28;01mNone\u001b[39;00m:\n\u001b[0;32m-> 3727\u001b[0m     axis \u001b[38;5;241m=\u001b[39m \u001b[43m_nx\u001b[49m\u001b[38;5;241;43m.\u001b[39;49m\u001b[43mnormalize_axis_tuple\u001b[49m\u001b[43m(\u001b[49m\u001b[43maxis\u001b[49m\u001b[43m,\u001b[49m\u001b[43m \u001b[49m\u001b[43mnd\u001b[49m\u001b[43m)\u001b[49m\n\u001b[1;32m   3729\u001b[0m     \u001b[38;5;28;01mif\u001b[39;00m keepdims:\n\u001b[1;32m   3730\u001b[0m         \u001b[38;5;28;01mif\u001b[39;00m out \u001b[38;5;129;01mis\u001b[39;00m \u001b[38;5;129;01mnot\u001b[39;00m \u001b[38;5;28;01mNone\u001b[39;00m:\n",
      "File \u001b[0;32m~/.pyenv/versions/3.11.3/lib/python3.11/site-packages/numpy/core/numeric.py:1398\u001b[0m, in \u001b[0;36mnormalize_axis_tuple\u001b[0;34m(axis, ndim, argname, allow_duplicate)\u001b[0m\n\u001b[1;32m   1396\u001b[0m         \u001b[38;5;28;01mpass\u001b[39;00m\n\u001b[1;32m   1397\u001b[0m \u001b[38;5;66;03m# Going via an iterator directly is slower than via list comprehension.\u001b[39;00m\n\u001b[0;32m-> 1398\u001b[0m axis \u001b[38;5;241m=\u001b[39m \u001b[38;5;28mtuple\u001b[39m(\u001b[43m[\u001b[49m\u001b[43mnormalize_axis_index\u001b[49m\u001b[43m(\u001b[49m\u001b[43max\u001b[49m\u001b[43m,\u001b[49m\u001b[43m \u001b[49m\u001b[43mndim\u001b[49m\u001b[43m,\u001b[49m\u001b[43m \u001b[49m\u001b[43margname\u001b[49m\u001b[43m)\u001b[49m\u001b[43m \u001b[49m\u001b[38;5;28;43;01mfor\u001b[39;49;00m\u001b[43m \u001b[49m\u001b[43max\u001b[49m\u001b[43m \u001b[49m\u001b[38;5;129;43;01min\u001b[39;49;00m\u001b[43m \u001b[49m\u001b[43maxis\u001b[49m\u001b[43m]\u001b[49m)\n\u001b[1;32m   1399\u001b[0m \u001b[38;5;28;01mif\u001b[39;00m \u001b[38;5;129;01mnot\u001b[39;00m allow_duplicate \u001b[38;5;129;01mand\u001b[39;00m \u001b[38;5;28mlen\u001b[39m(\u001b[38;5;28mset\u001b[39m(axis)) \u001b[38;5;241m!=\u001b[39m \u001b[38;5;28mlen\u001b[39m(axis):\n\u001b[1;32m   1400\u001b[0m     \u001b[38;5;28;01mif\u001b[39;00m argname:\n",
      "File \u001b[0;32m~/.pyenv/versions/3.11.3/lib/python3.11/site-packages/numpy/core/numeric.py:1398\u001b[0m, in \u001b[0;36m<listcomp>\u001b[0;34m(.0)\u001b[0m\n\u001b[1;32m   1396\u001b[0m         \u001b[38;5;28;01mpass\u001b[39;00m\n\u001b[1;32m   1397\u001b[0m \u001b[38;5;66;03m# Going via an iterator directly is slower than via list comprehension.\u001b[39;00m\n\u001b[0;32m-> 1398\u001b[0m axis \u001b[38;5;241m=\u001b[39m \u001b[38;5;28mtuple\u001b[39m([\u001b[43mnormalize_axis_index\u001b[49m\u001b[43m(\u001b[49m\u001b[43max\u001b[49m\u001b[43m,\u001b[49m\u001b[43m \u001b[49m\u001b[43mndim\u001b[49m\u001b[43m,\u001b[49m\u001b[43m \u001b[49m\u001b[43margname\u001b[49m\u001b[43m)\u001b[49m \u001b[38;5;28;01mfor\u001b[39;00m ax \u001b[38;5;129;01min\u001b[39;00m axis])\n\u001b[1;32m   1399\u001b[0m \u001b[38;5;28;01mif\u001b[39;00m \u001b[38;5;129;01mnot\u001b[39;00m allow_duplicate \u001b[38;5;129;01mand\u001b[39;00m \u001b[38;5;28mlen\u001b[39m(\u001b[38;5;28mset\u001b[39m(axis)) \u001b[38;5;241m!=\u001b[39m \u001b[38;5;28mlen\u001b[39m(axis):\n\u001b[1;32m   1400\u001b[0m     \u001b[38;5;28;01mif\u001b[39;00m argname:\n",
      "\u001b[0;31mAxisError\u001b[0m: axis 1 is out of bounds for array of dimension 1"
     ]
    }
   ],
   "source": [
    "# Example 3 - breaking (to illustrate when it breaks)\n",
    "test_scores = np.array([[44, 89, 78, 60], \n",
    "                       [56, 90],\n",
    "                        [55, 78, 87]], dtype=object)\n",
    "\n",
    "np.median(test_scores, axis=1)"
   ]
  },
  {
   "cell_type": "markdown",
   "id": "ee5d3ed3",
   "metadata": {},
   "source": [
    "The function can calculate the median given a matrix with different lengths of arrays, if the dtype is set to object. However, the median of the columns cannot be calculated. In order to fix the error, you must change the length of the arrays to be equal."
   ]
  },
  {
   "cell_type": "markdown",
   "id": "886736fb",
   "metadata": {},
   "source": [
    "##### This function comes in handy when trying to find the value that represents the \"middle\" with accuracy, especially when there are several set to compare."
   ]
  },
  {
   "cell_type": "markdown",
   "id": "6a0b569c",
   "metadata": {},
   "source": [
    "## Function 3 - np.mean\n",
    "\n",
    "Calculates the sum of the values and divides by the number of values. Also known as average, but does not have the same function parameters in numpy."
   ]
  },
  {
   "cell_type": "code",
   "execution_count": 12,
   "id": "1def65c6",
   "metadata": {},
   "outputs": [
    {
     "data": {
      "text/plain": [
       "80.125"
      ]
     },
     "execution_count": 12,
     "metadata": {},
     "output_type": "execute_result"
    }
   ],
   "source": [
    "# Example 1 - working\n",
    "test_scores = np.array([67, 92, 88, 91, 99, 45, 77, 82])\n",
    "\n",
    "np.mean(test_scores)"
   ]
  },
  {
   "cell_type": "markdown",
   "id": "006ba644",
   "metadata": {},
   "source": [
    "The function can take an array of values, add them together, divide by the number of values and return a \"mean.\""
   ]
  },
  {
   "cell_type": "code",
   "execution_count": 17,
   "id": "9fb1df58",
   "metadata": {},
   "outputs": [
    {
     "data": {
      "text/plain": [
       "74.83333333333333"
      ]
     },
     "execution_count": 17,
     "metadata": {},
     "output_type": "execute_result"
    }
   ],
   "source": [
    "# Example 2 - working\n",
    "test_scores_of_three_classes = np.array([[67, 92, 88, 91, 99, 10, 77, 82], \n",
    "                                       [70, 92, 89, 90, 100, 10, 73, 80],\n",
    "                                       [64, 77, 90, 100, 10, 88, 95, 62]])\n",
    "\n",
    "a = np.sort(test_scores_of_three_classes, axis=1)\n",
    "np.mean(a)\n",
    "# np.mean(a[:,1:])"
   ]
  },
  {
   "cell_type": "markdown",
   "id": "d4ecd3ce",
   "metadata": {},
   "source": [
    "The mean can be taken of a portion of the whole data set. For example, if the lowest score from each class was an outlier they could removed before the mean calculation."
   ]
  },
  {
   "cell_type": "code",
   "execution_count": 18,
   "id": "7949b29c",
   "metadata": {},
   "outputs": [
    {
     "ename": "ValueError",
     "evalue": "operands could not be broadcast together with remapped shapes [original->remapped]: (2,1)  and requested shape (3,8)",
     "output_type": "error",
     "traceback": [
      "\u001b[0;31m---------------------------------------------------------------------------\u001b[0m",
      "\u001b[0;31mValueError\u001b[0m                                Traceback (most recent call last)",
      "Cell \u001b[0;32mIn[18], line 6\u001b[0m\n\u001b[1;32m      1\u001b[0m \u001b[38;5;66;03m# Example 3 - breaking (to illustrate when it breaks)\u001b[39;00m\n\u001b[1;32m      2\u001b[0m test_scores_of_three_classes \u001b[38;5;241m=\u001b[39m np\u001b[38;5;241m.\u001b[39marray([[\u001b[38;5;241m67\u001b[39m, \u001b[38;5;241m92\u001b[39m, \u001b[38;5;241m88\u001b[39m, \u001b[38;5;241m91\u001b[39m, \u001b[38;5;241m99\u001b[39m, \u001b[38;5;241m10\u001b[39m, \u001b[38;5;241m77\u001b[39m, \u001b[38;5;241m82\u001b[39m], \n\u001b[1;32m      3\u001b[0m                                        [\u001b[38;5;241m60\u001b[39m, \u001b[38;5;241m82\u001b[39m, \u001b[38;5;241m79\u001b[39m, \u001b[38;5;241m80\u001b[39m, \u001b[38;5;241m90\u001b[39m, \u001b[38;5;241m10\u001b[39m, \u001b[38;5;241m63\u001b[39m, \u001b[38;5;241m70\u001b[39m],\n\u001b[1;32m      4\u001b[0m                                        [\u001b[38;5;241m64\u001b[39m, \u001b[38;5;241m77\u001b[39m, \u001b[38;5;241m90\u001b[39m, \u001b[38;5;241m100\u001b[39m, \u001b[38;5;241m10\u001b[39m, \u001b[38;5;241m88\u001b[39m, \u001b[38;5;241m95\u001b[39m, \u001b[38;5;241m62\u001b[39m]])\n\u001b[0;32m----> 6\u001b[0m \u001b[43mnp\u001b[49m\u001b[38;5;241;43m.\u001b[39;49m\u001b[43mmean\u001b[49m\u001b[43m(\u001b[49m\u001b[43mtest_scores_of_three_classes\u001b[49m\u001b[43m,\u001b[49m\u001b[43m \u001b[49m\u001b[43mwhere\u001b[49m\u001b[38;5;241;43m=\u001b[39;49m\u001b[43m[\u001b[49m\u001b[43m[\u001b[49m\u001b[38;5;28;43;01mTrue\u001b[39;49;00m\u001b[43m]\u001b[49m\u001b[43m,\u001b[49m\u001b[43m \u001b[49m\u001b[43m[\u001b[49m\u001b[38;5;28;43;01mFalse\u001b[39;49;00m\u001b[43m]\u001b[49m\u001b[43m]\u001b[49m\u001b[43m)\u001b[49m\n",
      "File \u001b[0;32m<__array_function__ internals>:200\u001b[0m, in \u001b[0;36mmean\u001b[0;34m(*args, **kwargs)\u001b[0m\n",
      "File \u001b[0;32m~/.pyenv/versions/3.11.3/lib/python3.11/site-packages/numpy/core/fromnumeric.py:3464\u001b[0m, in \u001b[0;36mmean\u001b[0;34m(a, axis, dtype, out, keepdims, where)\u001b[0m\n\u001b[1;32m   3461\u001b[0m     \u001b[38;5;28;01melse\u001b[39;00m:\n\u001b[1;32m   3462\u001b[0m         \u001b[38;5;28;01mreturn\u001b[39;00m mean(axis\u001b[38;5;241m=\u001b[39maxis, dtype\u001b[38;5;241m=\u001b[39mdtype, out\u001b[38;5;241m=\u001b[39mout, \u001b[38;5;241m*\u001b[39m\u001b[38;5;241m*\u001b[39mkwargs)\n\u001b[0;32m-> 3464\u001b[0m \u001b[38;5;28;01mreturn\u001b[39;00m \u001b[43m_methods\u001b[49m\u001b[38;5;241;43m.\u001b[39;49m\u001b[43m_mean\u001b[49m\u001b[43m(\u001b[49m\u001b[43ma\u001b[49m\u001b[43m,\u001b[49m\u001b[43m \u001b[49m\u001b[43maxis\u001b[49m\u001b[38;5;241;43m=\u001b[39;49m\u001b[43maxis\u001b[49m\u001b[43m,\u001b[49m\u001b[43m \u001b[49m\u001b[43mdtype\u001b[49m\u001b[38;5;241;43m=\u001b[39;49m\u001b[43mdtype\u001b[49m\u001b[43m,\u001b[49m\n\u001b[1;32m   3465\u001b[0m \u001b[43m                      \u001b[49m\u001b[43mout\u001b[49m\u001b[38;5;241;43m=\u001b[39;49m\u001b[43mout\u001b[49m\u001b[43m,\u001b[49m\u001b[43m \u001b[49m\u001b[38;5;241;43m*\u001b[39;49m\u001b[38;5;241;43m*\u001b[39;49m\u001b[43mkwargs\u001b[49m\u001b[43m)\u001b[49m\n",
      "File \u001b[0;32m~/.pyenv/versions/3.11.3/lib/python3.11/site-packages/numpy/core/_methods.py:169\u001b[0m, in \u001b[0;36m_mean\u001b[0;34m(a, axis, dtype, out, keepdims, where)\u001b[0m\n\u001b[1;32m    165\u001b[0m arr \u001b[38;5;241m=\u001b[39m asanyarray(a)\n\u001b[1;32m    167\u001b[0m is_float16_result \u001b[38;5;241m=\u001b[39m \u001b[38;5;28;01mFalse\u001b[39;00m\n\u001b[0;32m--> 169\u001b[0m rcount \u001b[38;5;241m=\u001b[39m \u001b[43m_count_reduce_items\u001b[49m\u001b[43m(\u001b[49m\u001b[43marr\u001b[49m\u001b[43m,\u001b[49m\u001b[43m \u001b[49m\u001b[43maxis\u001b[49m\u001b[43m,\u001b[49m\u001b[43m \u001b[49m\u001b[43mkeepdims\u001b[49m\u001b[38;5;241;43m=\u001b[39;49m\u001b[43mkeepdims\u001b[49m\u001b[43m,\u001b[49m\u001b[43m \u001b[49m\u001b[43mwhere\u001b[49m\u001b[38;5;241;43m=\u001b[39;49m\u001b[43mwhere\u001b[49m\u001b[43m)\u001b[49m\n\u001b[1;32m    170\u001b[0m \u001b[38;5;28;01mif\u001b[39;00m rcount \u001b[38;5;241m==\u001b[39m \u001b[38;5;241m0\u001b[39m \u001b[38;5;28;01mif\u001b[39;00m where \u001b[38;5;129;01mis\u001b[39;00m \u001b[38;5;28;01mTrue\u001b[39;00m \u001b[38;5;28;01melse\u001b[39;00m umr_any(rcount \u001b[38;5;241m==\u001b[39m \u001b[38;5;241m0\u001b[39m, axis\u001b[38;5;241m=\u001b[39m\u001b[38;5;28;01mNone\u001b[39;00m):\n\u001b[1;32m    171\u001b[0m     warnings\u001b[38;5;241m.\u001b[39mwarn(\u001b[38;5;124m\"\u001b[39m\u001b[38;5;124mMean of empty slice.\u001b[39m\u001b[38;5;124m\"\u001b[39m, \u001b[38;5;167;01mRuntimeWarning\u001b[39;00m, stacklevel\u001b[38;5;241m=\u001b[39m\u001b[38;5;241m2\u001b[39m)\n",
      "File \u001b[0;32m~/.pyenv/versions/3.11.3/lib/python3.11/site-packages/numpy/core/_methods.py:86\u001b[0m, in \u001b[0;36m_count_reduce_items\u001b[0;34m(arr, axis, keepdims, where)\u001b[0m\n\u001b[1;32m     84\u001b[0m     \u001b[38;5;28;01mfrom\u001b[39;00m \u001b[38;5;21;01mnumpy\u001b[39;00m\u001b[38;5;21;01m.\u001b[39;00m\u001b[38;5;21;01mlib\u001b[39;00m\u001b[38;5;21;01m.\u001b[39;00m\u001b[38;5;21;01mstride_tricks\u001b[39;00m \u001b[38;5;28;01mimport\u001b[39;00m broadcast_to\n\u001b[1;32m     85\u001b[0m     \u001b[38;5;66;03m# count True values in (potentially broadcasted) boolean mask\u001b[39;00m\n\u001b[0;32m---> 86\u001b[0m     items \u001b[38;5;241m=\u001b[39m umr_sum(\u001b[43mbroadcast_to\u001b[49m\u001b[43m(\u001b[49m\u001b[43mwhere\u001b[49m\u001b[43m,\u001b[49m\u001b[43m \u001b[49m\u001b[43marr\u001b[49m\u001b[38;5;241;43m.\u001b[39;49m\u001b[43mshape\u001b[49m\u001b[43m)\u001b[49m, axis, nt\u001b[38;5;241m.\u001b[39mintp, \u001b[38;5;28;01mNone\u001b[39;00m,\n\u001b[1;32m     87\u001b[0m                     keepdims)\n\u001b[1;32m     88\u001b[0m \u001b[38;5;28;01mreturn\u001b[39;00m items\n",
      "File \u001b[0;32m<__array_function__ internals>:200\u001b[0m, in \u001b[0;36mbroadcast_to\u001b[0;34m(*args, **kwargs)\u001b[0m\n",
      "File \u001b[0;32m~/.pyenv/versions/3.11.3/lib/python3.11/site-packages/numpy/lib/stride_tricks.py:413\u001b[0m, in \u001b[0;36mbroadcast_to\u001b[0;34m(array, shape, subok)\u001b[0m\n\u001b[1;32m    367\u001b[0m \u001b[38;5;129m@array_function_dispatch\u001b[39m(_broadcast_to_dispatcher, module\u001b[38;5;241m=\u001b[39m\u001b[38;5;124m'\u001b[39m\u001b[38;5;124mnumpy\u001b[39m\u001b[38;5;124m'\u001b[39m)\n\u001b[1;32m    368\u001b[0m \u001b[38;5;28;01mdef\u001b[39;00m \u001b[38;5;21mbroadcast_to\u001b[39m(array, shape, subok\u001b[38;5;241m=\u001b[39m\u001b[38;5;28;01mFalse\u001b[39;00m):\n\u001b[1;32m    369\u001b[0m \u001b[38;5;250m    \u001b[39m\u001b[38;5;124;03m\"\"\"Broadcast an array to a new shape.\u001b[39;00m\n\u001b[1;32m    370\u001b[0m \n\u001b[1;32m    371\u001b[0m \u001b[38;5;124;03m    Parameters\u001b[39;00m\n\u001b[0;32m   (...)\u001b[0m\n\u001b[1;32m    411\u001b[0m \u001b[38;5;124;03m           [1, 2, 3]])\u001b[39;00m\n\u001b[1;32m    412\u001b[0m \u001b[38;5;124;03m    \"\"\"\u001b[39;00m\n\u001b[0;32m--> 413\u001b[0m     \u001b[38;5;28;01mreturn\u001b[39;00m \u001b[43m_broadcast_to\u001b[49m\u001b[43m(\u001b[49m\u001b[43marray\u001b[49m\u001b[43m,\u001b[49m\u001b[43m \u001b[49m\u001b[43mshape\u001b[49m\u001b[43m,\u001b[49m\u001b[43m \u001b[49m\u001b[43msubok\u001b[49m\u001b[38;5;241;43m=\u001b[39;49m\u001b[43msubok\u001b[49m\u001b[43m,\u001b[49m\u001b[43m \u001b[49m\u001b[43mreadonly\u001b[49m\u001b[38;5;241;43m=\u001b[39;49m\u001b[38;5;28;43;01mTrue\u001b[39;49;00m\u001b[43m)\u001b[49m\n",
      "File \u001b[0;32m~/.pyenv/versions/3.11.3/lib/python3.11/site-packages/numpy/lib/stride_tricks.py:349\u001b[0m, in \u001b[0;36m_broadcast_to\u001b[0;34m(array, shape, subok, readonly)\u001b[0m\n\u001b[1;32m    346\u001b[0m     \u001b[38;5;28;01mraise\u001b[39;00m \u001b[38;5;167;01mValueError\u001b[39;00m(\u001b[38;5;124m'\u001b[39m\u001b[38;5;124mall elements of broadcast shape must be non-\u001b[39m\u001b[38;5;124m'\u001b[39m\n\u001b[1;32m    347\u001b[0m                      \u001b[38;5;124m'\u001b[39m\u001b[38;5;124mnegative\u001b[39m\u001b[38;5;124m'\u001b[39m)\n\u001b[1;32m    348\u001b[0m extras \u001b[38;5;241m=\u001b[39m []\n\u001b[0;32m--> 349\u001b[0m it \u001b[38;5;241m=\u001b[39m \u001b[43mnp\u001b[49m\u001b[38;5;241;43m.\u001b[39;49m\u001b[43mnditer\u001b[49m\u001b[43m(\u001b[49m\n\u001b[1;32m    350\u001b[0m \u001b[43m    \u001b[49m\u001b[43m(\u001b[49m\u001b[43marray\u001b[49m\u001b[43m,\u001b[49m\u001b[43m)\u001b[49m\u001b[43m,\u001b[49m\u001b[43m \u001b[49m\u001b[43mflags\u001b[49m\u001b[38;5;241;43m=\u001b[39;49m\u001b[43m[\u001b[49m\u001b[38;5;124;43m'\u001b[39;49m\u001b[38;5;124;43mmulti_index\u001b[39;49m\u001b[38;5;124;43m'\u001b[39;49m\u001b[43m,\u001b[49m\u001b[43m \u001b[49m\u001b[38;5;124;43m'\u001b[39;49m\u001b[38;5;124;43mrefs_ok\u001b[39;49m\u001b[38;5;124;43m'\u001b[39;49m\u001b[43m,\u001b[49m\u001b[43m \u001b[49m\u001b[38;5;124;43m'\u001b[39;49m\u001b[38;5;124;43mzerosize_ok\u001b[39;49m\u001b[38;5;124;43m'\u001b[39;49m\u001b[43m]\u001b[49m\u001b[43m \u001b[49m\u001b[38;5;241;43m+\u001b[39;49m\u001b[43m \u001b[49m\u001b[43mextras\u001b[49m\u001b[43m,\u001b[49m\n\u001b[1;32m    351\u001b[0m \u001b[43m    \u001b[49m\u001b[43mop_flags\u001b[49m\u001b[38;5;241;43m=\u001b[39;49m\u001b[43m[\u001b[49m\u001b[38;5;124;43m'\u001b[39;49m\u001b[38;5;124;43mreadonly\u001b[39;49m\u001b[38;5;124;43m'\u001b[39;49m\u001b[43m]\u001b[49m\u001b[43m,\u001b[49m\u001b[43m \u001b[49m\u001b[43mitershape\u001b[49m\u001b[38;5;241;43m=\u001b[39;49m\u001b[43mshape\u001b[49m\u001b[43m,\u001b[49m\u001b[43m \u001b[49m\u001b[43morder\u001b[49m\u001b[38;5;241;43m=\u001b[39;49m\u001b[38;5;124;43m'\u001b[39;49m\u001b[38;5;124;43mC\u001b[39;49m\u001b[38;5;124;43m'\u001b[39;49m\u001b[43m)\u001b[49m\n\u001b[1;32m    352\u001b[0m \u001b[38;5;28;01mwith\u001b[39;00m it:\n\u001b[1;32m    353\u001b[0m     \u001b[38;5;66;03m# never really has writebackifcopy semantics\u001b[39;00m\n\u001b[1;32m    354\u001b[0m     broadcast \u001b[38;5;241m=\u001b[39m it\u001b[38;5;241m.\u001b[39mitviews[\u001b[38;5;241m0\u001b[39m]\n",
      "\u001b[0;31mValueError\u001b[0m: operands could not be broadcast together with remapped shapes [original->remapped]: (2,1)  and requested shape (3,8)"
     ]
    }
   ],
   "source": [
    "# Example 3 - breaking (to illustrate when it breaks)\n",
    "test_scores_of_three_classes = np.array([[67, 92, 88, 91, 99, 10, 77, 82], \n",
    "                                       [60, 82, 79, 80, 90, 10, 63, 70],\n",
    "                                       [64, 77, 90, 100, 10, 88, 95, 62]])\n",
    "\n",
    "np.mean(test_scores_of_three_classes, where=[[True], [False]])"
   ]
  },
  {
   "cell_type": "markdown",
   "id": "a199ba62",
   "metadata": {},
   "source": [
    "The function can take the mean of certain arrays within the matrix using the keyword where. However, if the number of arrays within the where statement do not equal the number of arrays in the dataset there will be an error. Add or take away array in the where statement to equal the dataset."
   ]
  },
  {
   "cell_type": "markdown",
   "id": "b31ad652",
   "metadata": {},
   "source": [
    "##### This function is great to find out \"on average\" what a dataset looks like."
   ]
  },
  {
   "cell_type": "markdown",
   "id": "1d46d459",
   "metadata": {},
   "source": [
    "## Function 4 - np.std\n",
    "\n",
    "Can calculate the standard deviation (or spread) of data."
   ]
  },
  {
   "cell_type": "code",
   "execution_count": 19,
   "id": "08269d3b",
   "metadata": {},
   "outputs": [
    {
     "data": {
      "text/plain": [
       "26.757657263337205"
      ]
     },
     "execution_count": 19,
     "metadata": {},
     "output_type": "execute_result"
    }
   ],
   "source": [
    "# Example 1 - working\n",
    "test_scores_of_three_classes = np.array([[67, 92, 88, 91, 99, 10, 77, 82], \n",
    "                                       [70, 92, 89, 90, 100, 10, 73, 80],\n",
    "                                       [64, 77, 90, 100, 10, 88, 95, 62]])\n",
    "\n",
    "np.std(test_scores_of_three_classes)"
   ]
  },
  {
   "cell_type": "markdown",
   "id": "e6d27d0c",
   "metadata": {},
   "source": [
    "This function can calculate how far the values deviate from the center. The lower the number the closer the data points together."
   ]
  },
  {
   "cell_type": "code",
   "execution_count": 20,
   "id": "0e77c6c0",
   "metadata": {},
   "outputs": [
    {
     "data": {
      "text/plain": [
       "26.757657263337205"
      ]
     },
     "execution_count": 20,
     "metadata": {},
     "output_type": "execute_result"
    }
   ],
   "source": [
    "# Example 2 - working\n",
    "test_scores_of_three_classes = np.array([[67, 92, 88, 91, 99, 10, 77, 82], \n",
    "                                       [70, 92, 89, 90, 100, 10, 73, 80],\n",
    "                                       [64, 77, 90, 100, 10, 88, 95, 62]])\n",
    "\n",
    "\n",
    "# np.std(test_scores_of_three_classes, dtype=np.float32) # 26.757658\n",
    "np.std(test_scores_of_three_classes, dtype=np.float64) # 26.757657263337205"
   ]
  },
  {
   "cell_type": "markdown",
   "id": "4c19ef17",
   "metadata": {},
   "source": [
    "To get a more accurate answers, the function can take an optional dtype argument. The greater the base 2 number the more accurate the answer."
   ]
  },
  {
   "cell_type": "code",
   "execution_count": 21,
   "id": "e090c2b0",
   "metadata": {},
   "outputs": [
    {
     "name": "stderr",
     "output_type": "stream",
     "text": [
      "/Users/sarahvitvitskiy/.pyenv/versions/3.11.3/lib/python3.11/site-packages/numpy/core/_methods.py:269: RuntimeWarning: Degrees of freedom <= 0 for slice\n",
      "  ret = _var(a, axis=axis, dtype=dtype, out=out, ddof=ddof,\n",
      "/Users/sarahvitvitskiy/.pyenv/versions/3.11.3/lib/python3.11/site-packages/numpy/core/_methods.py:261: RuntimeWarning: divide by zero encountered in scalar divide\n",
      "  ret = ret.dtype.type(ret / rcount)\n"
     ]
    },
    {
     "data": {
      "text/plain": [
       "inf"
      ]
     },
     "execution_count": 21,
     "metadata": {},
     "output_type": "execute_result"
    }
   ],
   "source": [
    "# Example 3 - breaking (to illustrate when it breaks)\n",
    "number_of_absences = np.array([[[0, 0, 0],\n",
    "                               [1, 4, 0]],\n",
    "\n",
    "                               [[0, 3, 0],\n",
    "                               [1, 2, 0,]]])\n",
    "\n",
    "np.std(number_of_absences, ddof=20)"
   ]
  },
  {
   "cell_type": "markdown",
   "id": "694222f0",
   "metadata": {},
   "source": [
    "The ddof stands for Delat Degrees of Freedom, which is 0 by default. If the ddof is greater than the N (number of elements) then the results will be nan. Reduce the ddof to the number of element or less to stop the error."
   ]
  },
  {
   "cell_type": "markdown",
   "id": "a32d6992",
   "metadata": {},
   "source": [
    "##### The function can be should be used to see the spread (or variance) of data."
   ]
  },
  {
   "cell_type": "markdown",
   "id": "cf04bf07",
   "metadata": {},
   "source": [
    "## Function 5 - np.histogram\n",
    "\n",
    "Create a bar graph for a data set, where one axis contains a set of ranges instead of a set of values."
   ]
  },
  {
   "cell_type": "code",
   "execution_count": 22,
   "id": "00f589fa",
   "metadata": {},
   "outputs": [
    {
     "data": {
      "text/plain": [
       "(array([3, 0, 1, 3, 3, 2, 0, 6, 3, 3]),\n",
       " array([ 60.,  64.,  68.,  72.,  76.,  80.,  84.,  88.,  92.,  96., 100.]))"
      ]
     },
     "execution_count": 22,
     "metadata": {},
     "output_type": "execute_result"
    }
   ],
   "source": [
    "# Example 1 - working\n",
    "test_scores_of_three_classes = np.array([[72, 77, 77, 82, 88, 91, 92, 99],\n",
    "                                         [60, 70, 73, 80, 89, 90, 92, 100],\n",
    "                                         [62, 63, 74, 77, 88, 90, 95, 99]])\n",
    "# 60-64...60 62 63 (3)\n",
    "# 64-68... (0)\n",
    "# 68-72...70 (1)\n",
    "# 72-76...72 73 74 (3)\n",
    "# 78-80...77 77 77 (3)\n",
    "# 80-84...80 82 (2)\n",
    "# 84-88... (0)\n",
    "# 88-92...88 88 89 90 90 91(6)\n",
    "# 92-96...92 92 95 (3)\n",
    "# 96-100...99 99 100 (3)\n",
    "\n",
    "np.histogram(test_scores_of_three_classes)"
   ]
  },
  {
   "cell_type": "markdown",
   "id": "c3bedc4a",
   "metadata": {},
   "source": [
    "The function splits the range into 10 equal bins, returns the number of items in each bin and the edge of each bin."
   ]
  },
  {
   "cell_type": "code",
   "execution_count": 23,
   "id": "b91e67cc",
   "metadata": {},
   "outputs": [
    {
     "data": {
      "text/plain": [
       "(array([3., 0., 1., 3., 3., 2., 0., 6., 3., 3.]),\n",
       " array([ 60.,  64.,  68.,  72.,  76.,  80.,  84.,  88.,  92.,  96., 100.]),\n",
       " <BarContainer object of 10 artists>)"
      ]
     },
     "execution_count": 23,
     "metadata": {},
     "output_type": "execute_result"
    },
    {
     "data": {
      "image/png": "[encoded data removed]",
      "text/plain": [
       "<Figure size 640x480 with 1 Axes>"
      ]
     },
     "metadata": {},
     "output_type": "display_data"
    }
   ],
   "source": [
    "# Example 2 - working\n",
    "import matplotlib.pyplot as plt\n",
    "test_scores_of_three_classes = np.array([[72, 77, 77, 82, 88, 91, 92, 99],\n",
    "                                         [60, 70, 73, 80, 89, 90, 92, 100],\n",
    "                                         [62, 63, 74, 77, 88, 90, 95, 99]]).reshape(24,1)\n",
    "\n",
    "plt.title('Test Scores of Three Classes')\n",
    "plt.hist(test_scores_of_three_classes)"
   ]
  },
  {
   "cell_type": "markdown",
   "id": "ca4ac71f",
   "metadata": {},
   "source": [
    "If matplotlib is imported, using the same data as before, there is a bar graph representing the return statement. If the data is given in a matrix instead of an array the display is flawed."
   ]
  },
  {
   "cell_type": "code",
   "execution_count": 24,
   "id": "06733a6c",
   "metadata": {},
   "outputs": [
    {
     "ename": "ValueError",
     "evalue": "setting an array element with a sequence. The requested array has an inhomogeneous shape after 1 dimensions. The detected shape was (3,) + inhomogeneous part.",
     "output_type": "error",
     "traceback": [
      "\u001b[0;31m---------------------------------------------------------------------------\u001b[0m",
      "\u001b[0;31mValueError\u001b[0m                                Traceback (most recent call last)",
      "Cell \u001b[0;32mIn[24], line 2\u001b[0m\n\u001b[1;32m      1\u001b[0m \u001b[38;5;66;03m# Example 3 - breaking (to illustrate when it breaks)\u001b[39;00m\n\u001b[0;32m----> 2\u001b[0m test_scores_of_three_classes \u001b[38;5;241m=\u001b[39m \u001b[43mnp\u001b[49m\u001b[38;5;241;43m.\u001b[39;49m\u001b[43marray\u001b[49m\u001b[43m(\u001b[49m\u001b[43m[\u001b[49m\u001b[43m[\u001b[49m\u001b[38;5;241;43m72\u001b[39;49m\u001b[43m,\u001b[49m\u001b[43m \u001b[49m\u001b[38;5;241;43m77\u001b[39;49m\u001b[43m,\u001b[49m\u001b[43m \u001b[49m\u001b[38;5;241;43m77\u001b[39;49m\u001b[43m,\u001b[49m\u001b[43m \u001b[49m\u001b[38;5;241;43m82\u001b[39;49m\u001b[43m,\u001b[49m\u001b[43m \u001b[49m\u001b[38;5;241;43m88\u001b[39;49m\u001b[43m,\u001b[49m\u001b[43m \u001b[49m\u001b[38;5;241;43m91\u001b[39;49m\u001b[43m,\u001b[49m\u001b[43m \u001b[49m\u001b[38;5;241;43m92\u001b[39;49m\u001b[43m]\u001b[49m\u001b[43m,\u001b[49m\n\u001b[1;32m      3\u001b[0m \u001b[43m                                         \u001b[49m\u001b[43m[\u001b[49m\u001b[38;5;241;43m60\u001b[39;49m\u001b[43m,\u001b[49m\u001b[43m \u001b[49m\u001b[38;5;241;43m70\u001b[39;49m\u001b[43m,\u001b[49m\u001b[43m \u001b[49m\u001b[38;5;241;43m73\u001b[39;49m\u001b[43m,\u001b[49m\u001b[43m \u001b[49m\u001b[38;5;241;43m80\u001b[39;49m\u001b[43m,\u001b[49m\u001b[43m \u001b[49m\u001b[38;5;241;43m89\u001b[39;49m\u001b[43m,\u001b[49m\u001b[43m \u001b[49m\u001b[38;5;241;43m90\u001b[39;49m\u001b[43m,\u001b[49m\u001b[43m \u001b[49m\u001b[38;5;241;43m92\u001b[39;49m\u001b[43m,\u001b[49m\u001b[43m \u001b[49m\u001b[38;5;241;43m99\u001b[39;49m\u001b[43m,\u001b[49m\u001b[43m \u001b[49m\u001b[38;5;241;43m99\u001b[39;49m\u001b[43m,\u001b[49m\u001b[43m \u001b[49m\u001b[38;5;241;43m100\u001b[39;49m\u001b[43m]\u001b[49m\u001b[43m,\u001b[49m\n\u001b[1;32m      4\u001b[0m \u001b[43m                                         \u001b[49m\u001b[43m[\u001b[49m\u001b[38;5;241;43m62\u001b[39;49m\u001b[43m,\u001b[49m\u001b[43m \u001b[49m\u001b[38;5;241;43m63\u001b[39;49m\u001b[43m,\u001b[49m\u001b[43m \u001b[49m\u001b[38;5;241;43m74\u001b[39;49m\u001b[43m,\u001b[49m\u001b[43m \u001b[49m\u001b[38;5;241;43m77\u001b[39;49m\u001b[43m,\u001b[49m\u001b[43m \u001b[49m\u001b[38;5;241;43m88\u001b[39;49m\u001b[43m,\u001b[49m\u001b[43m \u001b[49m\u001b[38;5;241;43m90\u001b[39;49m\u001b[43m,\u001b[49m\u001b[43m \u001b[49m\u001b[38;5;241;43m95\u001b[39;49m\u001b[43m]\u001b[49m\u001b[43m]\u001b[49m\u001b[43m)\u001b[49m\n\u001b[1;32m      6\u001b[0m \u001b[38;5;66;03m# test_scores_of_three_classes = np.array([72, 77, 77, 82, 88, 91, 92, 60, 70, 73, 80, 89, 90, 92, 99, 99, 100, 62, 63, 74, 77, 88, 90, 95])\u001b[39;00m\n\u001b[1;32m      7\u001b[0m \n\u001b[1;32m      8\u001b[0m \u001b[38;5;66;03m# np.histogram(test_scores_of_three_classes, range=(50, 100), density=True)\u001b[39;00m\n\u001b[1;32m      9\u001b[0m np\u001b[38;5;241m.\u001b[39mhistogram(test_scores_of_three_classes)\n",
      "\u001b[0;31mValueError\u001b[0m: setting an array element with a sequence. The requested array has an inhomogeneous shape after 1 dimensions. The detected shape was (3,) + inhomogeneous part."
     ]
    }
   ],
   "source": [
    "# Example 3 - breaking (to illustrate when it breaks)\n",
    "test_scores_of_three_classes = np.array([[72, 77, 77, 82, 88, 91, 92],\n",
    "                                         [60, 70, 73, 80, 89, 90, 92, 99, 99, 100],\n",
    "                                         [62, 63, 74, 77, 88, 90, 95]])\n",
    "\n",
    "# test_scores_of_three_classes = np.array([72, 77, 77, 82, 88, 91, 92, 60, 70, 73, 80, 89, 90, 92, 99, 99, 100, 62, 63, 74, 77, 88, 90, 95])\n",
    "\n",
    "# np.histogram(test_scores_of_three_classes, range=(50, 100), density=True)\n",
    "np.histogram(test_scores_of_three_classes)"
   ]
  },
  {
   "cell_type": "markdown",
   "id": "0ef0398f",
   "metadata": {},
   "source": [
    "In order to use the histogram feature with matrices, the arrays need to be the same length. It will not be possible to \"reshape\" the matrix. The matrix must be reduced to a list of elements (i.e. one array)."
   ]
  },
  {
   "cell_type": "markdown",
   "id": "8dc6b365",
   "metadata": {},
   "source": [
    "##### Using the histogram function would be a great way to visualize the given data."
   ]
  },
  {
   "cell_type": "markdown",
   "id": "0ae21c00",
   "metadata": {},
   "source": [
    "## Conclusion\n",
    "\n",
    "This notebook covered the Peak to Peak, Median, Mean, Standarad Deviation, and Histogram functions. All would be great to get a picture of the numerical data (boolean included since True has value of 1 and False has value of 0). For more information visit the NumPy webpage for Statistics."
   ]
  },
  {
   "cell_type": "markdown",
   "id": "aa862819",
   "metadata": {},
   "source": [
    "## Reference Links\n",
    "Provide links to your references and other interesting articles about Numpy arrays:\n",
    "* Numpy official tutorial : https://numpy.org/doc/stable/user/quickstart.html\n",
    "* Numpy, Statistics: https://numpy.org/doc/stable/reference/routines.statistics.html#order-statistics"
   ]
  }
 ],
 "metadata": {
  "kernelspec": {
   "display_name": "Python 3 (ipykernel)",
   "language": "python",
   "name": "python3"
  },
  "language_info": {
   "codemirror_mode": {
    "name": "ipython",
    "version": 3
   },
   "file_extension": ".py",
   "mimetype": "text/x-python",
   "name": "python",
   "nbconvert_exporter": "python",
   "pygments_lexer": "ipython3",
   "version": "3.11.3"
  }
 },
 "nbformat": 4,
 "nbformat_minor": 5
}
